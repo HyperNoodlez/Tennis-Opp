{
 "cells": [
  {
   "cell_type": "code",
   "execution_count": 208,
   "outputs": [],
   "source": [
    "import pandas as pd\n",
    "import numpy as np\n",
    "from sklearn.preprocessing import OneHotEncoder\n",
    "from sklearn.model_selection import train_test_split\n",
    "from sklearn.preprocessing import StandardScaler\n",
    "from sklearn.linear_model import LogisticRegression\n",
    "from sklearn.linear_model import LinearRegression\n",
    "from sklearn.neighbors import NearestNeighbors\n",
    "from sklearn.ensemble import RandomForestClassifier\n",
    "from statsmodels.tsa.arima.model import ARIMA\n",
    "from sklearn.ensemble import RandomForestRegressor\n",
    "from sklearn.metrics import accuracy_score, f1_score, roc_auc_score, classification_report, mean_squared_error, r2_score\n",
    "import matplotlib.pyplot as plt\n"
   ],
   "metadata": {
    "collapsed": false
   },
   "id": "9f82bebd14bc6888"
  },
  {
   "cell_type": "markdown",
   "source": [
    "# Early Career Opportunity"
   ],
   "metadata": {
    "collapsed": false
   },
   "id": "f600364ca0c5a582"
  },
  {
   "cell_type": "markdown",
   "source": [
    "## Data Prep"
   ],
   "metadata": {
    "collapsed": false
   },
   "id": "79a9068b8e2a403b"
  },
  {
   "metadata": {
    "ExecuteTime": {
     "end_time": "2024-11-24T20:17:28.442652300Z",
     "start_time": "2024-11-22T20:39:55.826483Z"
    }
   },
   "cell_type": "code",
   "source": [
    "# Load all data files from 1990 to 2024 into a single DataFrame\n",
    "matches = pd.read_csv(r\"C:\\Users\\shivg\\OneDrive\\Desktop\\GitHub\\Tennis_ATP\\data\\all_matches.csv\", low_memory=False)\n",
    "matches['tourney_date'] = pd.to_datetime(matches['tourney_date'], format='%Y%m%d', errors='coerce')\n",
    "matches.to_csv()"
   ],
   "id": "def551276b5e7952",
   "outputs": [
    {
     "data": {
      "text/plain": "        Unnamed: 0                        tourney_id  \\\n0                0                          1990-339   \n1                1                          1990-339   \n2                2                          1990-339   \n3                3                          1990-339   \n4                4                          1990-339   \n...            ...                               ...   \n110392      110392  2024-M-DC-2024-WG2-PO-URU-MDA-01   \n110393      110393  2024-M-DC-2024-WG2-PO-VIE-RSA-01   \n110394      110394  2024-M-DC-2024-WG2-PO-VIE-RSA-01   \n110395      110395  2024-M-DC-2024-WG2-PO-VIE-RSA-01   \n110396      110396  2024-M-DC-2024-WG2-PO-VIE-RSA-01   \n\n                        tourney_name surface  draw_size tourney_level  \\\n0                           Adelaide    Hard         32             A   \n1                           Adelaide    Hard         32             A   \n2                           Adelaide    Hard         32             A   \n3                           Adelaide    Hard         32             A   \n4                           Adelaide    Hard         32             A   \n...                              ...     ...        ...           ...   \n110392  Davis Cup WG2 PO: URU vs MDA    Clay          4             D   \n110393  Davis Cup WG2 PO: VIE vs RSA    Hard          4             D   \n110394  Davis Cup WG2 PO: VIE vs RSA    Hard          4             D   \n110395  Davis Cup WG2 PO: VIE vs RSA    Hard          4             D   \n110396  Davis Cup WG2 PO: VIE vs RSA    Hard          4             D   \n\n       tourney_date  match_num  winner_id winner_seed  ... l_1stIn l_1stWon  \\\n0        1990-01-01          1     101843         1.0  ...     NaN      NaN   \n1        1990-01-01          2     100714         NaN  ...     NaN      NaN   \n2        1990-01-01          3     101529         NaN  ...     NaN      NaN   \n3        1990-01-01          4     100628         7.0  ...     NaN      NaN   \n4        1990-01-01          5     101404         3.0  ...     NaN      NaN   \n...             ...        ...        ...         ...  ...     ...      ...   \n110392   2024-02-03          5     212051         NaN  ...    30.0     17.0   \n110393   2024-02-02          1     122533         NaN  ...    41.0     25.0   \n110394   2024-02-02          2     144748         NaN  ...    51.0     25.0   \n110395   2024-02-02          4     122533         NaN  ...    51.0     32.0   \n110396   2024-02-02          5     202475         NaN  ...    53.0     25.0   \n\n       l_2ndWon  l_SvGms l_bpSaved  l_bpFaced  winner_rank winner_rank_points  \\\n0           NaN      NaN       NaN        NaN         25.0              591.0   \n1           NaN      NaN       NaN        NaN        146.0              157.0   \n2           NaN      NaN       NaN        NaN        113.0              215.0   \n3           NaN      NaN       NaN        NaN         68.0              297.0   \n4           NaN      NaN       NaN        NaN         34.0              496.0   \n...         ...      ...       ...        ...          ...                ...   \n110392      7.0      6.0       8.0       14.0       1109.0                8.0   \n110393      6.0      9.0       1.0        4.0        554.0               67.0   \n110394      7.0     11.0       5.0       12.0        416.0              109.0   \n110395     17.0     14.0       5.0        9.0        554.0               67.0   \n110396      8.0      8.0       9.0       14.0        748.0               32.0   \n\n       loser_rank loser_rank_points  \n0           282.0              70.0  \n1           127.0             182.0  \n2            71.0             290.0  \n3            80.0             271.0  \n4           100.0             224.0  \n...           ...               ...  \n110392      740.0              34.0  \n110393      748.0              32.0  \n110394        NaN               NaN  \n110395      416.0             109.0  \n110396        NaN               NaN  \n\n[110397 rows x 50 columns]",
      "text/html": "<div>\n<style scoped>\n    .dataframe tbody tr th:only-of-type {\n        vertical-align: middle;\n    }\n\n    .dataframe tbody tr th {\n        vertical-align: top;\n    }\n\n    .dataframe thead th {\n        text-align: right;\n    }\n</style>\n<table border=\"1\" class=\"dataframe\">\n  <thead>\n    <tr style=\"text-align: right;\">\n      <th></th>\n      <th>Unnamed: 0</th>\n      <th>tourney_id</th>\n      <th>tourney_name</th>\n      <th>surface</th>\n      <th>draw_size</th>\n      <th>tourney_level</th>\n      <th>tourney_date</th>\n      <th>match_num</th>\n      <th>winner_id</th>\n      <th>winner_seed</th>\n      <th>...</th>\n      <th>l_1stIn</th>\n      <th>l_1stWon</th>\n      <th>l_2ndWon</th>\n      <th>l_SvGms</th>\n      <th>l_bpSaved</th>\n      <th>l_bpFaced</th>\n      <th>winner_rank</th>\n      <th>winner_rank_points</th>\n      <th>loser_rank</th>\n      <th>loser_rank_points</th>\n    </tr>\n  </thead>\n  <tbody>\n    <tr>\n      <th>0</th>\n      <td>0</td>\n      <td>1990-339</td>\n      <td>Adelaide</td>\n      <td>Hard</td>\n      <td>32</td>\n      <td>A</td>\n      <td>1990-01-01</td>\n      <td>1</td>\n      <td>101843</td>\n      <td>1.0</td>\n      <td>...</td>\n      <td>NaN</td>\n      <td>NaN</td>\n      <td>NaN</td>\n      <td>NaN</td>\n      <td>NaN</td>\n      <td>NaN</td>\n      <td>25.0</td>\n      <td>591.0</td>\n      <td>282.0</td>\n      <td>70.0</td>\n    </tr>\n    <tr>\n      <th>1</th>\n      <td>1</td>\n      <td>1990-339</td>\n      <td>Adelaide</td>\n      <td>Hard</td>\n      <td>32</td>\n      <td>A</td>\n      <td>1990-01-01</td>\n      <td>2</td>\n      <td>100714</td>\n      <td>NaN</td>\n      <td>...</td>\n      <td>NaN</td>\n      <td>NaN</td>\n      <td>NaN</td>\n      <td>NaN</td>\n      <td>NaN</td>\n      <td>NaN</td>\n      <td>146.0</td>\n      <td>157.0</td>\n      <td>127.0</td>\n      <td>182.0</td>\n    </tr>\n    <tr>\n      <th>2</th>\n      <td>2</td>\n      <td>1990-339</td>\n      <td>Adelaide</td>\n      <td>Hard</td>\n      <td>32</td>\n      <td>A</td>\n      <td>1990-01-01</td>\n      <td>3</td>\n      <td>101529</td>\n      <td>NaN</td>\n      <td>...</td>\n      <td>NaN</td>\n      <td>NaN</td>\n      <td>NaN</td>\n      <td>NaN</td>\n      <td>NaN</td>\n      <td>NaN</td>\n      <td>113.0</td>\n      <td>215.0</td>\n      <td>71.0</td>\n      <td>290.0</td>\n    </tr>\n    <tr>\n      <th>3</th>\n      <td>3</td>\n      <td>1990-339</td>\n      <td>Adelaide</td>\n      <td>Hard</td>\n      <td>32</td>\n      <td>A</td>\n      <td>1990-01-01</td>\n      <td>4</td>\n      <td>100628</td>\n      <td>7.0</td>\n      <td>...</td>\n      <td>NaN</td>\n      <td>NaN</td>\n      <td>NaN</td>\n      <td>NaN</td>\n      <td>NaN</td>\n      <td>NaN</td>\n      <td>68.0</td>\n      <td>297.0</td>\n      <td>80.0</td>\n      <td>271.0</td>\n    </tr>\n    <tr>\n      <th>4</th>\n      <td>4</td>\n      <td>1990-339</td>\n      <td>Adelaide</td>\n      <td>Hard</td>\n      <td>32</td>\n      <td>A</td>\n      <td>1990-01-01</td>\n      <td>5</td>\n      <td>101404</td>\n      <td>3.0</td>\n      <td>...</td>\n      <td>NaN</td>\n      <td>NaN</td>\n      <td>NaN</td>\n      <td>NaN</td>\n      <td>NaN</td>\n      <td>NaN</td>\n      <td>34.0</td>\n      <td>496.0</td>\n      <td>100.0</td>\n      <td>224.0</td>\n    </tr>\n    <tr>\n      <th>...</th>\n      <td>...</td>\n      <td>...</td>\n      <td>...</td>\n      <td>...</td>\n      <td>...</td>\n      <td>...</td>\n      <td>...</td>\n      <td>...</td>\n      <td>...</td>\n      <td>...</td>\n      <td>...</td>\n      <td>...</td>\n      <td>...</td>\n      <td>...</td>\n      <td>...</td>\n      <td>...</td>\n      <td>...</td>\n      <td>...</td>\n      <td>...</td>\n      <td>...</td>\n      <td>...</td>\n    </tr>\n    <tr>\n      <th>110392</th>\n      <td>110392</td>\n      <td>2024-M-DC-2024-WG2-PO-URU-MDA-01</td>\n      <td>Davis Cup WG2 PO: URU vs MDA</td>\n      <td>Clay</td>\n      <td>4</td>\n      <td>D</td>\n      <td>2024-02-03</td>\n      <td>5</td>\n      <td>212051</td>\n      <td>NaN</td>\n      <td>...</td>\n      <td>30.0</td>\n      <td>17.0</td>\n      <td>7.0</td>\n      <td>6.0</td>\n      <td>8.0</td>\n      <td>14.0</td>\n      <td>1109.0</td>\n      <td>8.0</td>\n      <td>740.0</td>\n      <td>34.0</td>\n    </tr>\n    <tr>\n      <th>110393</th>\n      <td>110393</td>\n      <td>2024-M-DC-2024-WG2-PO-VIE-RSA-01</td>\n      <td>Davis Cup WG2 PO: VIE vs RSA</td>\n      <td>Hard</td>\n      <td>4</td>\n      <td>D</td>\n      <td>2024-02-02</td>\n      <td>1</td>\n      <td>122533</td>\n      <td>NaN</td>\n      <td>...</td>\n      <td>41.0</td>\n      <td>25.0</td>\n      <td>6.0</td>\n      <td>9.0</td>\n      <td>1.0</td>\n      <td>4.0</td>\n      <td>554.0</td>\n      <td>67.0</td>\n      <td>748.0</td>\n      <td>32.0</td>\n    </tr>\n    <tr>\n      <th>110394</th>\n      <td>110394</td>\n      <td>2024-M-DC-2024-WG2-PO-VIE-RSA-01</td>\n      <td>Davis Cup WG2 PO: VIE vs RSA</td>\n      <td>Hard</td>\n      <td>4</td>\n      <td>D</td>\n      <td>2024-02-02</td>\n      <td>2</td>\n      <td>144748</td>\n      <td>NaN</td>\n      <td>...</td>\n      <td>51.0</td>\n      <td>25.0</td>\n      <td>7.0</td>\n      <td>11.0</td>\n      <td>5.0</td>\n      <td>12.0</td>\n      <td>416.0</td>\n      <td>109.0</td>\n      <td>NaN</td>\n      <td>NaN</td>\n    </tr>\n    <tr>\n      <th>110395</th>\n      <td>110395</td>\n      <td>2024-M-DC-2024-WG2-PO-VIE-RSA-01</td>\n      <td>Davis Cup WG2 PO: VIE vs RSA</td>\n      <td>Hard</td>\n      <td>4</td>\n      <td>D</td>\n      <td>2024-02-02</td>\n      <td>4</td>\n      <td>122533</td>\n      <td>NaN</td>\n      <td>...</td>\n      <td>51.0</td>\n      <td>32.0</td>\n      <td>17.0</td>\n      <td>14.0</td>\n      <td>5.0</td>\n      <td>9.0</td>\n      <td>554.0</td>\n      <td>67.0</td>\n      <td>416.0</td>\n      <td>109.0</td>\n    </tr>\n    <tr>\n      <th>110396</th>\n      <td>110396</td>\n      <td>2024-M-DC-2024-WG2-PO-VIE-RSA-01</td>\n      <td>Davis Cup WG2 PO: VIE vs RSA</td>\n      <td>Hard</td>\n      <td>4</td>\n      <td>D</td>\n      <td>2024-02-02</td>\n      <td>5</td>\n      <td>202475</td>\n      <td>NaN</td>\n      <td>...</td>\n      <td>53.0</td>\n      <td>25.0</td>\n      <td>8.0</td>\n      <td>8.0</td>\n      <td>9.0</td>\n      <td>14.0</td>\n      <td>748.0</td>\n      <td>32.0</td>\n      <td>NaN</td>\n      <td>NaN</td>\n    </tr>\n  </tbody>\n</table>\n<p>110397 rows × 50 columns</p>\n</div>"
     },
     "execution_count": 209,
     "metadata": {},
     "output_type": "execute_result"
    }
   ],
   "execution_count": 209
  },
  {
   "cell_type": "markdown",
   "source": [
    "## Feature Engineering"
   ],
   "metadata": {
    "collapsed": false
   },
   "id": "b6d83182a6d3eb47"
  },
  {
   "cell_type": "markdown",
   "source": [
    "### Defining an Upset/Opportunity"
   ],
   "metadata": {
    "collapsed": false
   },
   "id": "c36eacd3671bba21"
  },
  {
   "metadata": {
    "ExecuteTime": {
     "end_time": "2024-11-24T20:17:28.487662600Z",
     "start_time": "2024-11-22T20:39:56.674527Z"
    }
   },
   "cell_type": "code",
   "source": [
    "# Defining the 'is_upset' Feature\n",
    "\n",
    "# Make sure columns are numeric\n",
    "matches['winner_rank'] = pd.to_numeric(matches['winner_rank'])\n",
    "matches['loser_rank'] = pd.to_numeric(matches['loser_rank'])\n",
    "\n",
    "# Set rank difference threshold to define an upset (A larger value is a more shocking upset [Bigger Oppertunity] )\n",
    "rank_threshold = 100\n",
    "\n",
    "# Create Feature\n",
    "\n",
    "matches['is_upset'] = (matches['winner_rank'] > matches['loser_rank']) &\\\n",
    "                      (matches['winner_rank'] - matches['loser_rank'].abs() > rank_threshold)"
   ],
   "id": "de1df4c36418113c",
   "outputs": [],
   "execution_count": 241
  },
  {
   "metadata": {
    "ExecuteTime": {
     "end_time": "2024-11-22T20:42:03.049286Z",
     "start_time": "2024-11-22T20:42:03.031004Z"
    }
   },
   "cell_type": "code",
   "source": [
    "# Total Number of Upsets from 1990 to 2024\n",
    "matches['is_upset'].value_counts()"
   ],
   "id": "911d14fec51744b0",
   "outputs": [
    {
     "data": {
      "text/plain": "False    104400\nTrue       5997\nName: is_upset, dtype: int64"
     },
     "execution_count": 242,
     "metadata": {},
     "output_type": "execute_result"
    }
   ],
   "execution_count": 242
  },
  {
   "cell_type": "markdown",
   "source": [
    "### How many upsets in the first 'n' matches"
   ],
   "metadata": {
    "collapsed": false
   },
   "id": "b28024d3d06552c7"
  },
  {
   "cell_type": "code",
   "execution_count": 243,
   "outputs": [],
   "source": [
    "# Calculate player's age at the time of the match\n",
    "matches['winner_age'] = pd.to_numeric(matches['winner_age'], errors='coerce')\n",
    "matches['loser_age'] = pd.to_numeric(matches['loser_age'], errors='coerce')\n",
    "\n",
    "# Sort matches by player and tourney_date for cumulative\n",
    "matches = matches.sort_values(['winner_id', 'tourney_date'])\n",
    "\n",
    "# Early-career performance: Number of upsets in the first n matches\n",
    "n_matches = 100"
   ],
   "metadata": {
    "collapsed": false
   },
   "id": "42801e2d55d6efab"
  },
  {
   "cell_type": "code",
   "execution_count": 244,
   "outputs": [],
   "source": [
    "# Function to calculate early-career upset frequency\n",
    "def early_career_upsets(match_history):\n",
    "    match_history['early_upsets'] = match_history['is_upset'].cumsum().shift(fill_value=0)\n",
    "    match_history['early_upsets'] = match_history['early_upsets'].where(match_history['match_num'] <= n_matches, other=None)\n",
    "    return match_history\n",
    "\n",
    "matches = matches.groupby('winner_id').apply(early_career_upsets)"
   ],
   "metadata": {
    "collapsed": false
   },
   "id": "3b5b031fd1f54009"
  },
  {
   "cell_type": "markdown",
   "source": [
    "### Tournament Level and Surface Encoding"
   ],
   "metadata": {
    "collapsed": false
   },
   "id": "26e0f97b0daeb5e8"
  },
  {
   "cell_type": "code",
   "execution_count": 245,
   "outputs": [],
   "source": [
    "# Handle missing values in tourney_level and surface\n",
    "matches['tourney_level'] = matches['tourney_level'].fillna('Unknown')\n",
    "matches['surface'] = matches['surface'].fillna('Unknown')"
   ],
   "metadata": {
    "collapsed": false
   },
   "id": "57e85d72d499f652"
  },
  {
   "cell_type": "code",
   "execution_count": 246,
   "outputs": [],
   "source": [
    "# One-hot encoding for surface and tourney_level\n",
    "tourney_level_encoded = pd.get_dummies(matches['tourney_level'], prefix='tourney_level', drop_first=True)\n",
    "surface_encoded = pd.get_dummies(matches['surface'], prefix='surface', drop_first=True)\n"
   ],
   "metadata": {
    "collapsed": false
   },
   "id": "960f7ecfa24a9cd8"
  },
  {
   "cell_type": "code",
   "execution_count": 247,
   "outputs": [
    {
     "name": "stdout",
     "output_type": "stream",
     "text": [
      "Available columns in data: Index(['Unnamed: 0', 'tourney_id', 'tourney_name', 'surface', 'draw_size',\n",
      "       'tourney_level', 'tourney_date', 'match_num', 'winner_id',\n",
      "       'winner_seed', 'winner_entry', 'winner_name', 'winner_hand',\n",
      "       'winner_ht', 'winner_ioc', 'winner_age', 'loser_id', 'loser_seed',\n",
      "       'loser_entry', 'loser_name', 'loser_hand', 'loser_ht', 'loser_ioc',\n",
      "       'loser_age', 'score', 'best_of', 'round', 'minutes', 'w_ace', 'w_df',\n",
      "       'w_svpt', 'w_1stIn', 'w_1stWon', 'w_2ndWon', 'w_SvGms', 'w_bpSaved',\n",
      "       'w_bpFaced', 'l_ace', 'l_df', 'l_svpt', 'l_1stIn', 'l_1stWon',\n",
      "       'l_2ndWon', 'l_SvGms', 'l_bpSaved', 'l_bpFaced', 'winner_rank',\n",
      "       'winner_rank_points', 'loser_rank', 'loser_rank_points', 'is_upset',\n",
      "       'early_upsets', 'tourney_level_D', 'tourney_level_F', 'tourney_level_G',\n",
      "       'tourney_level_M', 'surface_Clay', 'surface_Grass', 'surface_Hard',\n",
      "       'surface_Unknown', 'lifetime_highest_rank', 'scaled_tournaments_won',\n",
      "       'success_score', 'high_success', 'early_upset_binary',\n",
      "       'tourney_level_D', 'tourney_level_F', 'tourney_level_G',\n",
      "       'tourney_level_M', 'surface_Clay', 'surface_Grass', 'surface_Hard',\n",
      "       'surface_Unknown'],\n",
      "      dtype='object')\n",
      "Selected feature columns: ['early_upsets', 'lifetime_highest_rank', 'scaled_tournaments_won', 'tourney_level_D', 'tourney_level_F', 'tourney_level_G', 'tourney_level_M', 'surface_Clay', 'surface_Grass', 'surface_Hard', 'surface_Unknown']\n"
     ]
    }
   ],
   "source": [
    "matches = pd.concat([matches, tourney_level_encoded, surface_encoded], axis=1)\n",
    "\n",
    "# Dynamically update feature_columns to include all generated columns\n",
    "feature_columns = (\n",
    "        ['early_upsets', 'lifetime_highest_rank', 'scaled_tournaments_won'] +\n",
    "        list(tourney_level_encoded.columns) +\n",
    "        list(surface_encoded.columns)\n",
    ")\n",
    "\n",
    "# Check if all feature columns exist in the dataframe\n",
    "print(\"Available columns in data:\", matches.columns)\n",
    "print(\"Selected feature columns:\", feature_columns)"
   ],
   "metadata": {
    "collapsed": false
   },
   "id": "9e08bd9f21c8053d"
  },
  {
   "cell_type": "markdown",
   "source": [
    "\n",
    "## The Outcome - Measuring Success\n",
    "\n",
    "**Lifetime Highest Rank**:\n",
    "\n",
    "A player’s career-best rank should inversely contribute to success (e.g., rank #1 is the most successful). We can transform this using a scaling factor: `100 - lifetime_highest_rank`, ensuring higher ranks contribute more to success.\n",
    "\n",
    "**Number of Early Career Upsets**:\n",
    "\n",
    "Use the cumulative number of early career upsets, with more upsets contributing positively to success.\n",
    "\n",
    "**Tournaments Won (Scaled by Difficulty)**:\n",
    "\n",
    "Scale the number of tournaments won by their draw size:\n",
    "- **Small Draw (32)**: Weight = 1.0\n",
    "- **Medium Draw (64)**: Weight = 1.5\n",
    "- **Large Draw (128)**: Weight = 2.0\n",
    "\n",
    "**Overall Success Score**:\n",
    "\n",
    "Combine these factors into a weighted formula:\n",
    "\n",
    "$\\text{Success Score} = w_1 \\cdot (100 - \\text{Lifetime Highest Rank}) + w_2 \\cdot (\\text{Early Upsets}) + w_3 \\cdot (\\text{Scaled Tournaments Won})$\n",
    "\n",
    "Weights (`w1`, `w2`, `w3`) can be adjusted based on the relative importance of each factor.\n",
    "\n",
    "\n"
   ],
   "metadata": {
    "collapsed": false
   },
   "id": "9a42e9947b173faa"
  },
  {
   "cell_type": "code",
   "execution_count": 248,
   "outputs": [],
   "source": [
    "def calculate_scaled_tournaments_won(match_history):\n",
    "    # Scale based on draw size (example weights: 32=1, 64=1.5, 128=2)\n",
    "    draw_size_weights = {32: 1, 64: 1.5, 128: 2}\n",
    "    match_history['scaled_tournaments_won'] = match_history['draw_size'].map(draw_size_weights).fillna(1) * match_history['tourney_level'].notnull()\n",
    "    return match_history['scaled_tournaments_won'].sum()\n",
    "\n",
    "def calculate_success(row, highest_rank_column, early_upsets_column, w1=0.2, w2=0.7):\n",
    "    # Calculate success score\n",
    "    lifetime_highest_rank = row[highest_rank_column]\n",
    "    early_career_upsets = row[early_upsets_column]\n",
    "\n",
    "    success_score = (\n",
    "            w1 * (100 - lifetime_highest_rank) +\n",
    "            w2 * early_career_upsets\n",
    "    )\n",
    "    return success_score\n"
   ],
   "metadata": {
    "collapsed": false
   },
   "id": "c190c2ec0fda2ddf"
  },
  {
   "cell_type": "code",
   "execution_count": 249,
   "outputs": [],
   "source": [
    "# Group by player to compute lifetime stats\n",
    "matches['lifetime_highest_rank'] = matches.groupby('winner_id')['winner_rank'].transform('min')\n",
    "\n",
    "# Compute the scaled tournaments won per player\n",
    "matches['scaled_tournaments_won'] = matches.groupby('winner_id').apply(calculate_scaled_tournaments_won)\n",
    "\n",
    "# Apply the success function\n",
    "matches['success_score'] = matches.apply(\n",
    "    calculate_success,\n",
    "    axis=1,\n",
    "    args=('lifetime_highest_rank', 'early_upsets')\n",
    ")"
   ],
   "metadata": {
    "collapsed": false
   },
   "id": "78da134660272478"
  },
  {
   "cell_type": "code",
   "execution_count": 250,
   "outputs": [],
   "source": [
    "success_threshold = matches['success_score'].quantile(0.80)  # Top 20% of players\n",
    "matches['high_success'] = matches['success_score'] >= success_threshold"
   ],
   "metadata": {
    "collapsed": false
   },
   "id": "424d73282d50f095"
  },
  {
   "cell_type": "markdown",
   "source": [
    "## Modeling"
   ],
   "metadata": {
    "collapsed": false
   },
   "id": "16fb45d33544401d"
  },
  {
   "cell_type": "code",
   "execution_count": 251,
   "outputs": [],
   "source": [
    "# Update feature columns to include encoded variables\n",
    "feature_columns = (\n",
    "        ['early_upsets', 'lifetime_highest_rank', 'scaled_tournaments_won'] +\n",
    "        list(tourney_level_encoded.columns) +\n",
    "        list(surface_encoded.columns)\n",
    ")"
   ],
   "metadata": {
    "collapsed": false
   },
   "id": "ed15b5f07f5694e2"
  },
  {
   "cell_type": "code",
   "execution_count": 252,
   "outputs": [],
   "source": [
    "X = matches[feature_columns].dropna()\n",
    "y_classification = matches.loc[X.index, 'high_success']  # Binary classification target\n",
    "y_regression = matches.loc[X.index, 'success_score']     # Continuous regression target"
   ],
   "metadata": {
    "collapsed": false
   },
   "id": "3f1991362c871221"
  },
  {
   "cell_type": "code",
   "execution_count": 265,
   "outputs": [],
   "source": [
    "matches.to_csv(r\"C:\\Users\\shivg\\OneDrive\\Desktop\\GitHub\\Tennis_ATP\\data\\matches_with_success.csv\")"
   ],
   "metadata": {
    "collapsed": false
   },
   "id": "c4ecec488d37af79"
  },
  {
   "cell_type": "code",
   "execution_count": 254,
   "outputs": [],
   "source": [
    "X_train, X_temp, y_class_train, y_class_temp = train_test_split(\n",
    "    X, y_classification, test_size=0.2, random_state=42\n",
    ")\n",
    "X_val, X_test, y_class_val, y_class_test = train_test_split(\n",
    "    X_temp, y_class_temp, test_size=0.5, random_state=42\n",
    ")\n"
   ],
   "metadata": {
    "collapsed": false
   },
   "id": "e1f9c049cf464b41"
  },
  {
   "cell_type": "code",
   "execution_count": 255,
   "outputs": [],
   "source": [
    "# Regression target split\n",
    "y_reg_train, y_reg_temp = train_test_split(y_regression, test_size=0.2, random_state=42)\n",
    "y_reg_val, y_reg_test = train_test_split(y_reg_temp, test_size=0.5, random_state=42)\n"
   ],
   "metadata": {
    "collapsed": false
   },
   "id": "d890c30e56ef87bc"
  },
  {
   "cell_type": "code",
   "execution_count": 256,
   "outputs": [],
   "source": [
    "scaler = StandardScaler()\n",
    "X_train_scaled = scaler.fit_transform(X_train)\n",
    "X_val_scaled = scaler.transform(X_val)\n",
    "X_test_scaled = scaler.transform(X_test)"
   ],
   "metadata": {
    "collapsed": false
   },
   "id": "fad22d8003df22e9"
  },
  {
   "cell_type": "code",
   "execution_count": 257,
   "outputs": [
    {
     "name": "stdout",
     "output_type": "stream",
     "text": [
      "Training Features: (129, 19)\n",
      "Validation Features: (16, 19)\n",
      "Test Features: (17, 19)\n"
     ]
    }
   ],
   "source": [
    "# Display the prepared\n",
    "print(\"Training Features:\", X_train_scaled.shape)\n",
    "print(\"Validation Features:\", X_val_scaled.shape)\n",
    "print(\"Test Features:\", X_test_scaled.shape)"
   ],
   "metadata": {
    "collapsed": false
   },
   "id": "80d258ea78ca12d6"
  },
  {
   "cell_type": "code",
   "execution_count": 258,
   "outputs": [],
   "source": [
    "# Initialize models\n",
    "log_reg = LogisticRegression(random_state=42)\n",
    "rf_clf = RandomForestClassifier(random_state=42, n_estimators=100)\n",
    "\n",
    "# Train Logistic Regression\n",
    "log_reg.fit(X_train_scaled, y_class_train)\n",
    "y_pred_log_reg = log_reg.predict(X_val_scaled)\n",
    "\n",
    "# Train Random Forest\n",
    "rf_clf.fit(X_train_scaled, y_class_train)\n",
    "y_pred_rf = rf_clf.predict(X_val_scaled)"
   ],
   "metadata": {
    "collapsed": false
   },
   "id": "b999d94526df4424"
  },
  {
   "cell_type": "code",
   "execution_count": 259,
   "outputs": [
    {
     "name": "stdout",
     "output_type": "stream",
     "text": [
      "Logistic Regression Metrics:\n",
      "Accuracy: 0.9375\n",
      "F1 Score: 0.8\n",
      "ROC AUC: 0.9743589743589745\n",
      "\n",
      "Random Forest Metrics:\n",
      "Accuracy: 0.875\n",
      "F1 Score: 0.5\n",
      "ROC AUC: 1.0\n"
     ]
    }
   ],
   "source": [
    "# Evaluate models\n",
    "print(\"Logistic Regression Metrics:\")\n",
    "print(\"Accuracy:\", accuracy_score(y_class_val, y_pred_log_reg))\n",
    "print(\"F1 Score:\", f1_score(y_class_val, y_pred_log_reg))\n",
    "print(\"ROC AUC:\", roc_auc_score(y_class_val, log_reg.predict_proba(X_val_scaled)[:, 1]))\n",
    "\n",
    "print(\"\\nRandom Forest Metrics:\")\n",
    "print(\"Accuracy:\", accuracy_score(y_class_val, y_pred_rf))\n",
    "print(\"F1 Score:\", f1_score(y_class_val, y_pred_rf))\n",
    "print(\"ROC AUC:\", roc_auc_score(y_class_val, rf_clf.predict_proba(X_val_scaled)[:, 1]))"
   ],
   "metadata": {
    "collapsed": false
   },
   "id": "5cd63d2c9d0c4faf"
  },
  {
   "cell_type": "code",
   "execution_count": 260,
   "outputs": [
    {
     "name": "stdout",
     "output_type": "stream",
     "text": [
      "Linear Regression Metrics:\n",
      "RMSE: 6.33632983447227e-14\n",
      "R2 Score: 1.0\n",
      "\n",
      "Random Forest Regression Metrics:\n",
      "RMSE: 1.4044396569450706\n",
      "R2 Score: 0.9917334705883895\n"
     ]
    }
   ],
   "source": [
    "# Initialize models\n",
    "lin_reg = LinearRegression()\n",
    "rf_reg = RandomForestRegressor(random_state=42, n_estimators=100)\n",
    "\n",
    "# Train Linear Regression\n",
    "lin_reg.fit(X_train_scaled, y_reg_train)\n",
    "y_pred_lin_reg = lin_reg.predict(X_val_scaled)\n",
    "\n",
    "# Train Random Forest Regressor\n",
    "rf_reg.fit(X_train_scaled, y_reg_train)\n",
    "y_pred_rf_reg = rf_reg.predict(X_val_scaled)\n",
    "\n",
    "# Evaluate models\n",
    "print(\"Linear Regression Metrics:\")\n",
    "print(\"RMSE:\", mean_squared_error(y_reg_val, y_pred_lin_reg, squared=False))\n",
    "print(\"R2 Score:\", r2_score(y_reg_val, y_pred_lin_reg))\n",
    "\n",
    "print(\"\\nRandom Forest Regression Metrics:\")\n",
    "print(\"RMSE:\", mean_squared_error(y_reg_val, y_pred_rf_reg, squared=False))\n",
    "print(\"R2 Score:\", r2_score(y_reg_val, y_pred_rf_reg))"
   ],
   "metadata": {
    "collapsed": false
   },
   "id": "acf512fb77a0bc6d"
  },
  {
   "cell_type": "code",
   "execution_count": 261,
   "outputs": [
    {
     "name": "stdout",
     "output_type": "stream",
     "text": [
      "      early_upsets  early_upset_binary\n",
      "4426           0.0                   0\n",
      "4712           1.0                   1\n",
      "4736           2.0                   1\n",
      "5373           3.0                   1\n",
      "5410           4.0                   1\n",
      "      early_upsets  early_upset_binary\n",
      "4426           0.0                   0\n",
      "4712           1.0                   1\n",
      "4736           2.0                   1\n",
      "5373           3.0                   1\n",
      "5410           4.0                   1\n",
      "Estimated Causal Effect of Early Upsets on Success Score: -10.071134020618551\n"
     ]
    }
   ],
   "source": [
    "# Step 1: Ensure matches is a DataFrame\n",
    "if not isinstance(matches, pd.DataFrame):\n",
    "    raise TypeError(\"Expected 'matches' to be a Pandas DataFrame. Please check the earlier steps.\")\n",
    "\n",
    "# Ensure 'early_upsets' exists and is numeric\n",
    "if 'early_upsets' not in matches.columns:\n",
    "    raise KeyError(\"The column 'early_upsets' is missing from the dataset. Ensure it is created during feature engineering.\")\n",
    "\n",
    "# Fill missing values if necessary\n",
    "matches['early_upsets'] = matches['early_upsets'].fillna(0)\n",
    "\n",
    "# Step 2: Create binary column for early upsets\n",
    "matches['early_upset_binary'] = (matches['early_upsets'] > 0).astype(int)\n",
    "\n",
    "# Confirm the binary column was created\n",
    "print(matches[['early_upsets', 'early_upset_binary']].head())\n",
    "\n",
    "\n",
    "# Ensure 'early_upsets' exists and is numeric\n",
    "if 'early_upsets' not in matches.columns:\n",
    "    raise KeyError(\"The column 'early_upsets' is missing from the dataset. Ensure it is created during feature engineering.\")\n",
    "\n",
    "# Fill missing values if necessary\n",
    "matches['early_upsets'] = matches['early_upsets'].fillna(0)\n",
    "\n",
    "# Step 1: Propensity Score Model\n",
    "# Predict the likelihood of \"early_upsets\" > 0\n",
    "matches['early_upset_binary'] = (matches['early_upsets'] > 0).astype(int)\n",
    "\n",
    "# Confirm the binary column was created\n",
    "print(matches[['early_upsets', 'early_upset_binary']].head())\n",
    "\n",
    "# Train propensity score model\n",
    "prop_model = LogisticRegression(random_state=42)\n",
    "prop_model.fit(X_train_scaled, matches.loc[X_train.index, 'early_upset_binary'])\n",
    "\n",
    "# Step 2: Compute propensity scores\n",
    "X_train_ps = prop_model.predict_proba(X_train_scaled)[:, 1]\n",
    "\n",
    "# Separate treated and control groups\n",
    "treated = X_train[matches.loc[X_train.index, 'early_upset_binary'] == 1]\n",
    "control = X_train[matches.loc[X_train.index, 'early_upset_binary'] == 0]\n",
    "treated_scores = X_train_ps[matches.loc[X_train.index, 'early_upset_binary'] == 1]\n",
    "control_scores = X_train_ps[matches.loc[X_train.index, 'early_upset_binary'] == 0]\n",
    "\n",
    "# Step 3: Nearest Neighbors Matching\n",
    "nn = NearestNeighbors(n_neighbors=1)\n",
    "nn.fit(control_scores.reshape(-1, 1))\n",
    "\n",
    "# Find the closest neighbors for treated samples\n",
    "matches_nn = nn.kneighbors(treated_scores.reshape(-1, 1), return_distance=False).flatten()\n",
    "\n",
    "# Ensure the matches are within bounds\n",
    "if len(matches_nn) > len(control):\n",
    "    matches_nn = matches_nn[:len(control)]\n",
    "\n",
    "matched_control = control.iloc[matches_nn]\n",
    "\n",
    "# Step 4: Compare Outcomes\n",
    "treated_outcomes = y_reg_train[matches.loc[X_train.index, 'early_upset_binary'] == 1]\n",
    "control_outcomes = y_reg_train[matched_control.index]\n",
    "\n",
    "# Calculate Causal Effect\n",
    "causal_effect = treated_outcomes.mean() - control_outcomes.mean()\n",
    "print(\"Estimated Causal Effect of Early Upsets on Success Score:\", causal_effect)"
   ],
   "metadata": {
    "collapsed": false
   },
   "id": "f4221c98261f513b"
  },
  {
   "cell_type": "code",
   "execution_count": 262,
   "outputs": [
    {
     "name": "stdout",
     "output_type": "stream",
     "text": [
      "Rank Forecast for Player 100284: 42    33.0\n",
      "43    33.0\n",
      "44    33.0\n",
      "45    33.0\n",
      "46    33.0\n",
      "Name: predicted_mean, dtype: float64\n"
     ]
    },
    {
     "name": "stderr",
     "output_type": "stream",
     "text": [
      "C:\\Users\\shivg\\anaconda3\\lib\\site-packages\\statsmodels\\tsa\\base\\tsa_model.py:471: ValueWarning: An unsupported index was provided and will be ignored when e.g. forecasting.\n",
      "  self._init_dates(dates, freq)\n",
      "C:\\Users\\shivg\\anaconda3\\lib\\site-packages\\statsmodels\\tsa\\base\\tsa_model.py:471: ValueWarning: An unsupported index was provided and will be ignored when e.g. forecasting.\n",
      "  self._init_dates(dates, freq)\n",
      "C:\\Users\\shivg\\anaconda3\\lib\\site-packages\\statsmodels\\tsa\\base\\tsa_model.py:471: ValueWarning: An unsupported index was provided and will be ignored when e.g. forecasting.\n",
      "  self._init_dates(dates, freq)\n",
      "C:\\Users\\shivg\\anaconda3\\lib\\site-packages\\statsmodels\\base\\model.py:604: ConvergenceWarning: Maximum Likelihood optimization failed to converge. Check mle_retvals\n",
      "  warnings.warn(\"Maximum Likelihood optimization failed to \"\n",
      "C:\\Users\\shivg\\anaconda3\\lib\\site-packages\\statsmodels\\tsa\\base\\tsa_model.py:834: ValueWarning: No supported index is available. Prediction results will be given with an integer index beginning at `start`.\n",
      "  return get_prediction_index(\n"
     ]
    }
   ],
   "source": [
    "# Example: ARIMA for player rank trajectory\n",
    "player_id = matches['winner_id'].iloc[0]  # Pick an example player\n",
    "player_data = matches[matches['winner_id'] == player_id].sort_values('tourney_date')\n",
    "rank_series = player_data['lifetime_highest_rank'].dropna()\n",
    "\n",
    "# Train ARIMA model\n",
    "arima_model = ARIMA(rank_series, order=(1, 1, 0))  # Adjust ARIMA parameters as needed\n",
    "arima_results = arima_model.fit()\n",
    "\n",
    "# Forecast future ranks\n",
    "forecast = arima_results.forecast(steps=5)\n",
    "print(f\"Rank Forecast for Player {player_id}:\", forecast)"
   ],
   "metadata": {
    "collapsed": false
   },
   "id": "86bfa4c81979fbda"
  },
  {
   "cell_type": "code",
   "execution_count": 263,
   "outputs": [
    {
     "data": {
      "text/plain": "<Figure size 576x360 with 1 Axes>",
      "image/png": "[encoded data removed]"
     },
     "metadata": {
      "needs_background": "light"
     },
     "output_type": "display_data"
    },
    {
     "data": {
      "text/plain": "<Figure size 576x360 with 1 Axes>",
      "image/png": "[encoded data removed]"
     },
     "metadata": {
      "needs_background": "light"
     },
     "output_type": "display_data"
    }
   ],
   "source": [
    "# Histogram for early_upsets\n",
    "plt.figure(figsize=(8, 5))\n",
    "plt.hist(matches['early_upsets'], bins=10, alpha=0.7, color='blue')\n",
    "plt.title('Distribution of Early Upsets')\n",
    "plt.xlabel('Number of Early Upsets')\n",
    "plt.ylabel('Frequency')\n",
    "plt.show()\n",
    "\n",
    "# Bar chart for binary encoding\n",
    "binary_counts = matches['early_upset_binary'].value_counts()\n",
    "plt.figure(figsize=(8, 5))\n",
    "binary_counts.plot(kind='bar', alpha=0.7, color='green')\n",
    "plt.title('Binary Encoding of Early Upsets')\n",
    "plt.xlabel('Early Upset Binary (0 = No, 1 = Yes)')\n",
    "plt.ylabel('Count')\n",
    "plt.show()"
   ],
   "metadata": {
    "collapsed": false
   },
   "id": "4706d285a1850ad0"
  },
  {
   "cell_type": "code",
   "execution_count": 264,
   "outputs": [
    {
     "data": {
      "text/plain": "<Figure size 432x288 with 1 Axes>",
      "image/png": "[encoded data removed]"
     },
     "metadata": {
      "needs_background": "light"
     },
     "output_type": "display_data"
    }
   ],
   "source": [
    "# 4. Career Trajectories of Individuals with High Early Upsets\n",
    "# Assuming matches DataFrame contains a 'career_rank' column over time per player\n",
    "high_upset_threshold = 15\n",
    "high_upset_players = matches[matches['early_upsets'] > high_upset_threshold]['winner_id'].unique()\n",
    "\n",
    "for player_id in high_upset_players:\n",
    "    player_data = matches[matches['winner_id'] == player_id].sort_values('tourney_date')\n",
    "    plt.plot(player_data['tourney_date'], player_data['winner_rank'], label=f'Player {player_id}')\n",
    "\n",
    "plt.title('Career Trajectories of Players with High Early Upsets')\n",
    "plt.xlabel('Tournament Date')\n",
    "plt.ylabel('Rank')\n",
    "plt.gca().invert_yaxis()  # Lower rank is better\n",
    "plt.legend(loc='upper right', fontsize='small')\n",
    "plt.show()\n"
   ],
   "metadata": {
    "collapsed": false
   },
   "id": "a5e4f984ac8e8e6c"
  },
  {
   "cell_type": "code",
   "execution_count": null,
   "outputs": [],
   "source": [],
   "metadata": {
    "collapsed": false
   },
   "id": "8c3042dc5bd3aea5"
  }
 ],
 "metadata": {
  "kernelspec": {
   "display_name": "Python 3",
   "language": "python",
   "name": "python3"
  },
  "language_info": {
   "codemirror_mode": {
    "name": "ipython",
    "version": 2
   },
   "file_extension": ".py",
   "mimetype": "text/x-python",
   "name": "python",
   "nbconvert_exporter": "python",
   "pygments_lexer": "ipython2",
   "version": "2.7.6"
  }
 },
 "nbformat": 4,
 "nbformat_minor": 5
}
